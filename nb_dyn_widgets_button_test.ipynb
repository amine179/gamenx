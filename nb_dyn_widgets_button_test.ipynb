{
 "cells": [
  {
   "cell_type": "code",
   "execution_count": 1,
   "metadata": {},
   "outputs": [
    {
     "data": {
      "application/vnd.jupyter.widget-view+json": {
       "model_id": "aa54574d680343088c2657577f7114d6",
       "version_major": 2,
       "version_minor": 0
      },
      "text/plain": [
       "interactive(children=(IntSlider(value=3, description='a', max=5, min=1), Output()), _dom_classes=('widget-inte…"
      ]
     },
     "metadata": {},
     "output_type": "display_data"
    }
   ],
   "source": [
    "# nbi:hide_in\n",
    "\n",
    "from ipywidgets import interactive, interact, HBox, Layout, VBox\n",
    "from IPython.display import display\n",
    "import ipywidgets as wg\n",
    "\n",
    "def dyn_wg(valuee):\n",
    "    a = {}\n",
    "    k = 1\n",
    "\n",
    "    n = valuee\n",
    "    properties = 3\n",
    "    z = n*properties\n",
    "    while k < z+1:\n",
    "        # dropdown\n",
    "        value = wg.Dropdown(\n",
    "            options=['1', '2', '3'],\n",
    "            value='2',\n",
    "            description='p:',\n",
    "            disabled=False,\n",
    "        )\n",
    "        a[k] = value \n",
    "        k += 1\n",
    "\n",
    "    i = 1\n",
    "    while i < z+1:\n",
    "        hb = HBox([a[i], a[i+1], a[i+2]])\n",
    "        display(hb)\n",
    "        i = i+3\n",
    "\n",
    "\n",
    "\n",
    "def f(a):\n",
    "    return a\n",
    "\n",
    "my_result = interactive(f, a=(1,5))\n",
    "\n",
    "display(my_result)"
   ]
  },
  {
   "cell_type": "code",
   "execution_count": 2,
   "metadata": {},
   "outputs": [
    {
     "data": {
      "application/vnd.jupyter.widget-view+json": {
       "model_id": "e8b77c90dcb14cd6b48d0c46edf1093c",
       "version_major": 2,
       "version_minor": 0
      },
      "text/plain": [
       "Button(button_style='info', description='Show Widgets', icon='check', style=ButtonStyle(), tooltip='^,^')"
      ]
     },
     "metadata": {},
     "output_type": "display_data"
    },
    {
     "data": {
      "application/vnd.jupyter.widget-view+json": {
       "model_id": "21da1c734dda4485b7a0376b5dad7cb2",
       "version_major": 2,
       "version_minor": 0
      },
      "text/plain": [
       "Output()"
      ]
     },
     "metadata": {},
     "output_type": "display_data"
    }
   ],
   "source": [
    "# nbi:hide_in\n",
    "\n",
    "from IPython.display import display\n",
    "import ipywidgets as widgets\n",
    "\n",
    "output = widgets.Output()\n",
    "\n",
    "button =widgets.Button(\n",
    "    description='Show Widgets',\n",
    "    disabled=False,\n",
    "    button_style='info', \n",
    "    tooltip='^,^',\n",
    "    icon='check'\n",
    ")\n",
    "\n",
    "display(button, output)\n",
    "\n",
    "def on_button_clicked(b):\n",
    "    with output:\n",
    "        from IPython.display import clear_output\n",
    "        clear_output()\n",
    "        n = my_result.result\n",
    "        dyn_wg(n)\n",
    "\n",
    "button.on_click(on_button_clicked)"
   ]
  },
  {
   "cell_type": "code",
   "execution_count": null,
   "metadata": {},
   "outputs": [],
   "source": []
  }
 ],
 "metadata": {
  "kernelspec": {
   "display_name": "Python 3",
   "language": "python",
   "name": "python3"
  },
  "language_info": {
   "codemirror_mode": {
    "name": "ipython",
    "version": 3
   },
   "file_extension": ".py",
   "mimetype": "text/x-python",
   "name": "python",
   "nbconvert_exporter": "python",
   "pygments_lexer": "ipython3",
   "version": "3.6.6"
  }
 },
 "nbformat": 4,
 "nbformat_minor": 4
}
