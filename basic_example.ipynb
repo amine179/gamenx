{
 "cells": [
  {
   "cell_type": "markdown",
   "metadata": {},
   "source": [
    "# Game like interactive Epidemic simulation in a Network\n"
   ]
  },
  {
   "cell_type": "code",
   "execution_count": 16,
   "metadata": {},
   "outputs": [
    {
     "data": {
      "application/vnd.jupyter.widget-view+json": {
       "model_id": "c8ca694eea4e47948305419c2f0e93f4",
       "version_major": 2,
       "version_minor": 0
      },
      "text/plain": [
       "interactive(children=(Text(value='2', description='nbr_of_nodes'), Output()), _dom_classes=('widget-interact',…"
      ]
     },
     "metadata": {},
     "output_type": "display_data"
    }
   ],
   "source": [
    "# nbi:hide_in\n",
    "\n",
    "from ipywidgets import interact\n",
    "import networkx as nx\n",
    "import numpy as np\n",
    "import matplotlib.pyplot as plt\n",
    "\n",
    "\n",
    "def my_fct(nbr_of_nodes):\n",
    "    #print(nbr)\n",
    "    if nbr_of_nodes=='':\n",
    "        nbr_of_nodes=1\n",
    "        G = nx.complete_graph(int(nbr_of_nodes))\n",
    "        nx.draw(G)\n",
    "        plt.show()\n",
    "    else:\n",
    "        G = nx.complete_graph(int(nbr_of_nodes))\n",
    "        nx.draw(G)\n",
    "        plt.show()\n",
    "    \n",
    "    \n",
    "interact(my_fct, nbr_of_nodes='2');"
   ]
  },
  {
   "cell_type": "code",
   "execution_count": null,
   "metadata": {},
   "outputs": [],
   "source": []
  }
 ],
 "metadata": {
  "kernelspec": {
   "display_name": "Python 3",
   "language": "python",
   "name": "python3"
  },
  "language_info": {
   "codemirror_mode": {
    "name": "ipython",
    "version": 3
   },
   "file_extension": ".py",
   "mimetype": "text/x-python",
   "name": "python",
   "nbconvert_exporter": "python",
   "pygments_lexer": "ipython3",
   "version": "3.6.6"
  }
 },
 "nbformat": 4,
 "nbformat_minor": 4
}
